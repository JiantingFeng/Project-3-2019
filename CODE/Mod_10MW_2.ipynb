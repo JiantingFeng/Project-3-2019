{
 "cells": [
  {
   "cell_type": "code",
   "execution_count": 1,
   "metadata": {
    "colab": {},
    "colab_type": "code",
    "id": "OsosPQ13bjBY"
   },
   "outputs": [],
   "source": [
    "# coding = utf-8\n",
    "import pandas as pd\n",
    "import numpy as np\n",
    "from sklearn import preprocessing\n",
    "import seaborn as sns\n",
    "import warnings\n",
    "warnings.filterwarnings('ignore')\n",
    "import matplotlib.pyplot as plt\n",
    "from scipy import stats\n",
    "from sklearn.model_selection import train_test_split\n",
    "%matplotlib inline"
   ]
  },
  {
   "cell_type": "code",
   "execution_count": 2,
   "metadata": {
    "colab": {},
    "colab_type": "code",
    "id": "snCft5lxcUI4"
   },
   "outputs": [],
   "source": [
    "# data_train = pd.read_csv('train_10mw_1.csv')\n",
    "data_train = pd.read_csv('/Users/fengjianting/Desktop/Predict/DATA/10MW(2)/train_10mw_2.csv')"
   ]
  },
  {
   "cell_type": "code",
   "execution_count": 3,
   "metadata": {
    "colab": {},
    "colab_type": "code",
    "id": "AkxYNVq6cnP2"
   },
   "outputs": [],
   "source": [
    "del data_train['Time']\n",
    "del data_train['WindDirection']\n",
    "del data_train['Pressure']\n",
    "label = np.array(data_train['ActualPower'])\n",
    "del data_train['ActualPower']"
   ]
  },
  {
   "cell_type": "code",
   "execution_count": 4,
   "metadata": {
    "colab": {},
    "colab_type": "code",
    "id": "5_FuYzNPdkJw"
   },
   "outputs": [],
   "source": [
    "feature_list = list(data_train.columns)\n",
    "features = np.array(data_train)"
   ]
  },
  {
   "cell_type": "code",
   "execution_count": 5,
   "metadata": {
    "colab": {
     "base_uri": "https://localhost:8080/",
     "height": 156
    },
    "colab_type": "code",
    "id": "vMAh0O6Xdl62",
    "outputId": "b98be7a2-5771-4fba-a364-ae9a83daedca"
   },
   "outputs": [
    {
     "data": {
      "text/plain": [
       "RandomForestRegressor(bootstrap=True, criterion='mse', max_depth=None,\n",
       "           max_features='auto', max_leaf_nodes=None,\n",
       "           min_impurity_decrease=0.0, min_impurity_split=None,\n",
       "           min_samples_leaf=1, min_samples_split=2,\n",
       "           min_weight_fraction_leaf=0.0, n_estimators=100, n_jobs=None,\n",
       "           oob_score=False, random_state=2, verbose=0, warm_start=False)"
      ]
     },
     "execution_count": 5,
     "metadata": {},
     "output_type": "execute_result"
    }
   ],
   "source": [
    "# 利用随机森林法进行回归分析\n",
    "from sklearn.ensemble import RandomForestRegressor\n",
    "# 初始化随机森林， 用100棵树， 初始值为2\n",
    "rf = RandomForestRegressor(n_estimators = 100, random_state = 2, oob_score = False)\n",
    "rf.fit(features, label)"
   ]
  },
  {
   "cell_type": "code",
   "execution_count": 6,
   "metadata": {
    "colab": {
     "base_uri": "https://localhost:8080/",
     "height": 34
    },
    "colab_type": "code",
    "id": "UrhGcNtndniW",
    "outputId": "06ef4ee3-f3b5-4115-c814-4f54a8b029e8"
   },
   "outputs": [
    {
     "name": "stdout",
     "output_type": "stream",
     "text": [
      "Mean Absolute Error: 0.19318590726715473\n"
     ]
    }
   ],
   "source": [
    "predictions = rf.predict(features)\n",
    "errors = abs(predictions - label)\n",
    "print(\"Mean Absolute Error:\",np.mean(errors))"
   ]
  },
  {
   "cell_type": "code",
   "execution_count": 7,
   "metadata": {
    "colab": {
     "base_uri": "https://localhost:8080/",
     "height": 34
    },
    "colab_type": "code",
    "id": "wff7kZhJd3Cc",
    "outputId": "0efb26ae-c721-4022-b9dc-78d0d496d560"
   },
   "outputs": [
    {
     "name": "stdout",
     "output_type": "stream",
     "text": [
      "MAE: 1.757767780825077 %\n"
     ]
    }
   ],
   "source": [
    "C_i = 10\n",
    "sum = 0\n",
    "n = np.size(label)\n",
    "for i in range(n):\n",
    "    if label[i] >= 0.3:\n",
    "        sum += abs(label[i] - predictions[i])\n",
    "MAE = sum/(n*C_i)\n",
    "print(\"MAE:\",MAE*100,\"%\")"
   ]
  },
  {
   "cell_type": "code",
   "execution_count": 8,
   "metadata": {
    "colab": {
     "base_uri": "https://localhost:8080/",
     "height": 722
    },
    "colab_type": "code",
    "id": "Kt_mZh7Ud7rz",
    "outputId": "eed3eeb5-157e-49a3-92b2-b24f1ae314b7"
   },
   "outputs": [],
   "source": [
    "# 对测试集和验证集的数据处理\n",
    "# data_test = pd.read_csv('test_10mw_1.csv')\n",
    "# data_target = pd.read_csv('validation_10mw_1.csv')\n",
    "data_test = pd.read_csv('/Users/fengjianting/Desktop/Predict/DATA/10MW(2)/test_10mw_2.csv')\n",
    "data_target = pd.read_csv('/Users/fengjianting/Desktop/Predict/DATA/10MW(2)/validation_10mw_2.csv')\n",
    "# 做与之前相同的处理\n",
    "del data_target['Time']\n",
    "del data_test['Time']\n",
    "del data_test['WindDirection']\n",
    "del data_test['Pressure']\n",
    "# 将实际功率作为标签进行训练\n",
    "label_test = np.array(data_target['ActualPower'])\n",
    "features_test = np.array(data_test)"
   ]
  },
  {
   "cell_type": "code",
   "execution_count": 9,
   "metadata": {
    "colab": {},
    "colab_type": "code",
    "id": "zF7Y4Q5seIt2"
   },
   "outputs": [
    {
     "name": "stdout",
     "output_type": "stream",
     "text": [
      "Mean Absolute Error: 0.9445629285289661\n",
      "MAE: 8.495539895008902 %\n"
     ]
    }
   ],
   "source": [
    "predictions_test = rf.predict(features_test)\n",
    "errors = abs(predictions_test - label_test)\n",
    "print(\"Mean Absolute Error:\",np.mean(errors))\n",
    "C_i = 10\n",
    "sum = 0\n",
    "n = np.size(label_test)\n",
    "for i in range(n):\n",
    "    if label_test[i] >= 0.3:\n",
    "        sum += abs(label_test[i] - predictions_test[i])\n",
    "MAE = sum/(n*C_i)\n",
    "print(\"MAE:\",MAE*100,\"%\")"
   ]
  }
 ],
 "metadata": {
  "colab": {
   "collapsed_sections": [],
   "name": "Mod_10MW_1.ipynb",
   "provenance": [],
   "version": "0.3.2"
  },
  "kernelspec": {
   "display_name": "Python 3",
   "language": "python",
   "name": "python3"
  },
  "language_info": {
   "codemirror_mode": {
    "name": "ipython",
    "version": 3
   },
   "file_extension": ".py",
   "mimetype": "text/x-python",
   "name": "python",
   "nbconvert_exporter": "python",
   "pygments_lexer": "ipython3",
   "version": "3.6.8"
  }
 },
 "nbformat": 4,
 "nbformat_minor": 1
}
